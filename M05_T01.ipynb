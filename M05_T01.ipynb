{
 "cells": [
  {
   "cell_type": "code",
   "execution_count": 1,
   "id": "e6d0fb05",
   "metadata": {},
   "outputs": [],
   "source": [
    "import numpy as np\n",
    "import pandas as pd\n",
    "import matplotlib\n",
    "import matplotlib.pyplot as plt\n",
    "import seaborn as sns\n",
    "from matplotlib import rcParams\n",
    "from scipy import stats\n",
    "pd.options.display.max_columns=None"
   ]
  },
  {
   "cell_type": "markdown",
   "id": "12d0ef82",
   "metadata": {},
   "source": [
    "## EXERCICI 1"
   ]
  },
  {
   "cell_type": "markdown",
   "id": "ccf9289e",
   "metadata": {},
   "source": [
    "### IMPORTACION Y LIMPIEZA DEL DATASET"
   ]
  },
  {
   "cell_type": "code",
   "execution_count": 2,
   "id": "3f28ebc2",
   "metadata": {},
   "outputs": [],
   "source": [
    "Uefa=pd.read_csv('Lligues europees UEFA.csv',encoding='latin_1',sep=';')"
   ]
  },
  {
   "cell_type": "code",
   "execution_count": 3,
   "id": "745e315f",
   "metadata": {
    "scrolled": true
   },
   "outputs": [
    {
     "data": {
      "text/html": [
       "<div>\n",
       "<style scoped>\n",
       "    .dataframe tbody tr th:only-of-type {\n",
       "        vertical-align: middle;\n",
       "    }\n",
       "\n",
       "    .dataframe tbody tr th {\n",
       "        vertical-align: top;\n",
       "    }\n",
       "\n",
       "    .dataframe thead th {\n",
       "        text-align: right;\n",
       "    }\n",
       "</style>\n",
       "<table border=\"1\" class=\"dataframe\">\n",
       "  <thead>\n",
       "    <tr style=\"text-align: right;\">\n",
       "      <th></th>\n",
       "      <th>Rk</th>\n",
       "      <th>Squad</th>\n",
       "      <th>Country</th>\n",
       "      <th>LgRk</th>\n",
       "      <th>MP</th>\n",
       "      <th>W</th>\n",
       "      <th>D</th>\n",
       "      <th>L</th>\n",
       "      <th>GF</th>\n",
       "      <th>GA</th>\n",
       "      <th>GD</th>\n",
       "      <th>Pts</th>\n",
       "      <th>Pts/G</th>\n",
       "      <th>xG</th>\n",
       "      <th>xGA</th>\n",
       "      <th>xGD</th>\n",
       "      <th>xGD/90</th>\n",
       "      <th>Last 5</th>\n",
       "      <th>Attendance</th>\n",
       "      <th>Top Team Scorer</th>\n",
       "      <th>Goalkeeper</th>\n",
       "    </tr>\n",
       "  </thead>\n",
       "  <tbody>\n",
       "    <tr>\n",
       "      <th>0</th>\n",
       "      <td>1</td>\n",
       "      <td>Manchester City</td>\n",
       "      <td>ENG</td>\n",
       "      <td>1</td>\n",
       "      <td>37</td>\n",
       "      <td>28</td>\n",
       "      <td>6</td>\n",
       "      <td>3</td>\n",
       "      <td>96</td>\n",
       "      <td>24</td>\n",
       "      <td>72</td>\n",
       "      <td>90</td>\n",
       "      <td>2.43</td>\n",
       "      <td>86.1</td>\n",
       "      <td>26.8</td>\n",
       "      <td>59.3</td>\n",
       "      <td>1.60</td>\n",
       "      <td>W W W W D</td>\n",
       "      <td>52739</td>\n",
       "      <td>Kevin De Bruyne - 15</td>\n",
       "      <td>Ederson</td>\n",
       "    </tr>\n",
       "    <tr>\n",
       "      <th>1</th>\n",
       "      <td>2</td>\n",
       "      <td>Liverpool</td>\n",
       "      <td>ENG</td>\n",
       "      <td>2</td>\n",
       "      <td>36</td>\n",
       "      <td>26</td>\n",
       "      <td>8</td>\n",
       "      <td>2</td>\n",
       "      <td>89</td>\n",
       "      <td>24</td>\n",
       "      <td>65</td>\n",
       "      <td>86</td>\n",
       "      <td>2.39</td>\n",
       "      <td>84.6</td>\n",
       "      <td>33.1</td>\n",
       "      <td>51.4</td>\n",
       "      <td>1.43</td>\n",
       "      <td>W W W D W</td>\n",
       "      <td>53367</td>\n",
       "      <td>Mohamed Salah - 22</td>\n",
       "      <td>Alisson</td>\n",
       "    </tr>\n",
       "    <tr>\n",
       "      <th>2</th>\n",
       "      <td>3</td>\n",
       "      <td>Real Madrid</td>\n",
       "      <td>ESP</td>\n",
       "      <td>1</td>\n",
       "      <td>37</td>\n",
       "      <td>26</td>\n",
       "      <td>7</td>\n",
       "      <td>4</td>\n",
       "      <td>80</td>\n",
       "      <td>31</td>\n",
       "      <td>49</td>\n",
       "      <td>85</td>\n",
       "      <td>2.30</td>\n",
       "      <td>73.0</td>\n",
       "      <td>45.8</td>\n",
       "      <td>27.2</td>\n",
       "      <td>0.73</td>\n",
       "      <td>W W L W D</td>\n",
       "      <td>40624</td>\n",
       "      <td>Karim Benzema - 27</td>\n",
       "      <td>Thibaut Courtois</td>\n",
       "    </tr>\n",
       "    <tr>\n",
       "      <th>3</th>\n",
       "      <td>4</td>\n",
       "      <td>Bayern Munich</td>\n",
       "      <td>GER</td>\n",
       "      <td>1</td>\n",
       "      <td>34</td>\n",
       "      <td>24</td>\n",
       "      <td>5</td>\n",
       "      <td>5</td>\n",
       "      <td>97</td>\n",
       "      <td>37</td>\n",
       "      <td>60</td>\n",
       "      <td>77</td>\n",
       "      <td>2.26</td>\n",
       "      <td>88.1</td>\n",
       "      <td>37.1</td>\n",
       "      <td>51.0</td>\n",
       "      <td>1.50</td>\n",
       "      <td>W W L D D</td>\n",
       "      <td>33176</td>\n",
       "      <td>Robert Lewandowski - 35</td>\n",
       "      <td>Manuel Neuer</td>\n",
       "    </tr>\n",
       "    <tr>\n",
       "      <th>4</th>\n",
       "      <td>5</td>\n",
       "      <td>Paris S-G</td>\n",
       "      <td>FRA</td>\n",
       "      <td>1</td>\n",
       "      <td>37</td>\n",
       "      <td>25</td>\n",
       "      <td>8</td>\n",
       "      <td>4</td>\n",
       "      <td>85</td>\n",
       "      <td>36</td>\n",
       "      <td>49</td>\n",
       "      <td>83</td>\n",
       "      <td>2.24</td>\n",
       "      <td>71.6</td>\n",
       "      <td>38.1</td>\n",
       "      <td>33.4</td>\n",
       "      <td>0.90</td>\n",
       "      <td>W D D D W</td>\n",
       "      <td>41188</td>\n",
       "      <td>Kylian Mbappé - 25</td>\n",
       "      <td>Keylor Navas</td>\n",
       "    </tr>\n",
       "  </tbody>\n",
       "</table>\n",
       "</div>"
      ],
      "text/plain": [
       "   Rk            Squad Country  LgRk  MP   W  D  L  GF  GA  GD  Pts  Pts/G  \\\n",
       "0   1  Manchester City     ENG     1  37  28  6  3  96  24  72   90   2.43   \n",
       "1   2        Liverpool     ENG     2  36  26  8  2  89  24  65   86   2.39   \n",
       "2   3      Real Madrid     ESP     1  37  26  7  4  80  31  49   85   2.30   \n",
       "3   4    Bayern Munich     GER     1  34  24  5  5  97  37  60   77   2.26   \n",
       "4   5        Paris S-G     FRA     1  37  25  8  4  85  36  49   83   2.24   \n",
       "\n",
       "     xG   xGA   xGD  xGD/90     Last 5  Attendance          Top Team Scorer  \\\n",
       "0  86.1  26.8  59.3    1.60  W W W W D       52739     Kevin De Bruyne - 15   \n",
       "1  84.6  33.1  51.4    1.43  W W W D W       53367       Mohamed Salah - 22   \n",
       "2  73.0  45.8  27.2    0.73  W W L W D       40624       Karim Benzema - 27   \n",
       "3  88.1  37.1  51.0    1.50  W W L D D       33176  Robert Lewandowski - 35   \n",
       "4  71.6  38.1  33.4    0.90  W D D D W       41188       Kylian Mbappé - 25   \n",
       "\n",
       "         Goalkeeper  \n",
       "0           Ederson  \n",
       "1           Alisson  \n",
       "2  Thibaut Courtois  \n",
       "3      Manuel Neuer  \n",
       "4      Keylor Navas  "
      ]
     },
     "execution_count": 3,
     "metadata": {},
     "output_type": "execute_result"
    }
   ],
   "source": [
    "Uefa.head()"
   ]
  },
  {
   "cell_type": "code",
   "execution_count": 4,
   "id": "42753954",
   "metadata": {},
   "outputs": [
    {
     "name": "stdout",
     "output_type": "stream",
     "text": [
      "<class 'pandas.core.frame.DataFrame'>\n",
      "RangeIndex: 98 entries, 0 to 97\n",
      "Data columns (total 21 columns):\n",
      " #   Column           Non-Null Count  Dtype  \n",
      "---  ------           --------------  -----  \n",
      " 0   Rk               98 non-null     int64  \n",
      " 1   Squad            98 non-null     object \n",
      " 2   Country          98 non-null     object \n",
      " 3   LgRk             98 non-null     int64  \n",
      " 4   MP               98 non-null     int64  \n",
      " 5   W                98 non-null     int64  \n",
      " 6   D                98 non-null     int64  \n",
      " 7   L                98 non-null     int64  \n",
      " 8   GF               98 non-null     int64  \n",
      " 9   GA               98 non-null     int64  \n",
      " 10  GD               98 non-null     int64  \n",
      " 11  Pts              98 non-null     int64  \n",
      " 12  Pts/G            98 non-null     float64\n",
      " 13  xG               98 non-null     float64\n",
      " 14  xGA              98 non-null     float64\n",
      " 15  xGD              98 non-null     float64\n",
      " 16  xGD/90           98 non-null     float64\n",
      " 17  Last 5           98 non-null     object \n",
      " 18  Attendance       98 non-null     int64  \n",
      " 19  Top Team Scorer  98 non-null     object \n",
      " 20  Goalkeeper       98 non-null     object \n",
      "dtypes: float64(5), int64(11), object(5)\n",
      "memory usage: 16.2+ KB\n"
     ]
    }
   ],
   "source": [
    "Uefa.info()"
   ]
  },
  {
   "cell_type": "code",
   "execution_count": 5,
   "id": "d52368fc",
   "metadata": {
    "scrolled": false
   },
   "outputs": [
    {
     "data": {
      "text/plain": [
       "Rk                 98\n",
       "Squad              98\n",
       "Country             5\n",
       "LgRk               20\n",
       "MP                  3\n",
       "W                  25\n",
       "D                  13\n",
       "L                  24\n",
       "GF                 47\n",
       "GA                 48\n",
       "GD                 61\n",
       "Pts                52\n",
       "Pts/G              61\n",
       "xG                 87\n",
       "xGA                88\n",
       "xGD                91\n",
       "xGD/90             77\n",
       "Last 5             80\n",
       "Attendance         98\n",
       "Top Team Scorer    98\n",
       "Goalkeeper         98\n",
       "dtype: int64"
      ]
     },
     "execution_count": 5,
     "metadata": {},
     "output_type": "execute_result"
    }
   ],
   "source": [
    "Uefa.nunique()"
   ]
  },
  {
   "cell_type": "code",
   "execution_count": 6,
   "id": "740d8c9e",
   "metadata": {
    "scrolled": true
   },
   "outputs": [
    {
     "data": {
      "text/plain": [
       "ENG    20\n",
       "ESP    20\n",
       "FRA    20\n",
       "ITA    20\n",
       "GER    18\n",
       "Name: Country, dtype: int64"
      ]
     },
     "execution_count": 6,
     "metadata": {},
     "output_type": "execute_result"
    }
   ],
   "source": [
    "Uefa.Country.value_counts()"
   ]
  },
  {
   "cell_type": "code",
   "execution_count": 7,
   "id": "64a9757e",
   "metadata": {},
   "outputs": [
    {
     "data": {
      "text/plain": [
       "1     5\n",
       "2     5\n",
       "17    5\n",
       "18    5\n",
       "16    5\n",
       "15    5\n",
       "14    5\n",
       "13    5\n",
       "12    5\n",
       "11    5\n",
       "10    5\n",
       "9     5\n",
       "8     5\n",
       "7     5\n",
       "6     5\n",
       "5     5\n",
       "4     5\n",
       "3     5\n",
       "19    4\n",
       "20    4\n",
       "Name: LgRk, dtype: int64"
      ]
     },
     "execution_count": 7,
     "metadata": {},
     "output_type": "execute_result"
    }
   ],
   "source": [
    "Uefa.LgRk.value_counts()"
   ]
  },
  {
   "cell_type": "markdown",
   "id": "b46b2f6e",
   "metadata": {},
   "source": [
    "### DESCRIPCION DE LOS DATOS  \n",
    "\n",
    "El dataset recoge datos referentes a los resultados de una temporada de las 5 grandes ligas de football europeas de la UEFA (desconocemos la temporada).  \n",
    "\n",
    "El dataset tiene 98 lineas, una por cada equipo participante, y 21 columnas correspondientes a las siguientes variables :\n",
    "\n",
    "#### VARIABLES\n",
    "\n",
    "Rk      : un ranking de 0 a 20  \n",
    "Squad   : el nombre del equipo   \n",
    "Country : el país del equipo \n",
    "(hay 5 países, Inglaterra, Francia, España, Alemania e Italia)  \n",
    "LgRk    : la mejor posición obtenida por cada equipo en cualquiera de las 5 ligas  \n",
    "MP\t    : el total de partido jugados por el equipo  \n",
    "W\t    : el total de partidos ganados  \n",
    "D\t    : el total de partidos empatados  \n",
    "L\t    : el total de partidos perdidos  \n",
    "GF\t    : el total de goles a favor  \n",
    "GA\t    : el total de goles en contra  \n",
    "GD\t    : la diferencia de goles (GF-GA)  \n",
    "Pts\t    : la suma de puntos de la competición (W=3, D=1, L=0)  \n",
    "Pts/G   : el coeficiente de puntos por goal a favor  \n",
    "xG\t    : la previsión de goles a favor  \n",
    "xGA\t    : la previsión de goles en contra  \n",
    "xGD\t    : la previsión de diferencia de goles  \n",
    "xGD/90\t: la previsión de diferencia de goles por partido (90 mn)  \n",
    "Last 5\t: el resultado de los 5 últimos partidos  \n",
    "Attendance\t    : la asistencia media de público por partido jugado por cada equipo  \n",
    "Top Team Scorer\t: el máximo goleador del equipo  \n",
    "Goalkeeper\t    : el portero del equipo  "
   ]
  },
  {
   "cell_type": "code",
   "execution_count": 8,
   "id": "6b925ba0",
   "metadata": {
    "scrolled": true
   },
   "outputs": [
    {
     "data": {
      "text/plain": [
       "Rk                 0\n",
       "Squad              0\n",
       "Country            0\n",
       "LgRk               0\n",
       "MP                 0\n",
       "W                  0\n",
       "D                  0\n",
       "L                  0\n",
       "GF                 0\n",
       "GA                 0\n",
       "GD                 0\n",
       "Pts                0\n",
       "Pts/G              0\n",
       "xG                 0\n",
       "xGA                0\n",
       "xGD                0\n",
       "xGD/90             0\n",
       "Last 5             0\n",
       "Attendance         0\n",
       "Top Team Scorer    0\n",
       "Goalkeeper         0\n",
       "dtype: int64"
      ]
     },
     "execution_count": 8,
     "metadata": {},
     "output_type": "execute_result"
    }
   ],
   "source": [
    "Uefa.isna().sum()"
   ]
  },
  {
   "cell_type": "code",
   "execution_count": 9,
   "id": "26d3907b",
   "metadata": {
    "scrolled": true
   },
   "outputs": [
    {
     "data": {
      "text/html": [
       "<div>\n",
       "<style scoped>\n",
       "    .dataframe tbody tr th:only-of-type {\n",
       "        vertical-align: middle;\n",
       "    }\n",
       "\n",
       "    .dataframe tbody tr th {\n",
       "        vertical-align: top;\n",
       "    }\n",
       "\n",
       "    .dataframe thead th {\n",
       "        text-align: right;\n",
       "    }\n",
       "</style>\n",
       "<table border=\"1\" class=\"dataframe\">\n",
       "  <thead>\n",
       "    <tr style=\"text-align: right;\">\n",
       "      <th></th>\n",
       "      <th>Rk</th>\n",
       "      <th>Squad</th>\n",
       "      <th>Country</th>\n",
       "      <th>LgRk</th>\n",
       "      <th>MP</th>\n",
       "      <th>W</th>\n",
       "      <th>D</th>\n",
       "      <th>L</th>\n",
       "      <th>GF</th>\n",
       "      <th>GA</th>\n",
       "      <th>GD</th>\n",
       "      <th>Pts</th>\n",
       "      <th>Pts/G</th>\n",
       "      <th>xG</th>\n",
       "      <th>xGA</th>\n",
       "      <th>xGD</th>\n",
       "      <th>xGD/90</th>\n",
       "      <th>Last 5</th>\n",
       "      <th>Attendance</th>\n",
       "      <th>Top Team Scorer</th>\n",
       "      <th>Goalkeeper</th>\n",
       "    </tr>\n",
       "  </thead>\n",
       "  <tbody>\n",
       "    <tr>\n",
       "      <th>count</th>\n",
       "      <td>98.000000</td>\n",
       "      <td>98</td>\n",
       "      <td>98</td>\n",
       "      <td>98.000000</td>\n",
       "      <td>98.000000</td>\n",
       "      <td>98.000000</td>\n",
       "      <td>98.000000</td>\n",
       "      <td>98.00000</td>\n",
       "      <td>98.000000</td>\n",
       "      <td>98.000000</td>\n",
       "      <td>98.000000</td>\n",
       "      <td>98.000000</td>\n",
       "      <td>98.000000</td>\n",
       "      <td>98.000000</td>\n",
       "      <td>98.000000</td>\n",
       "      <td>98.000000</td>\n",
       "      <td>98.000000</td>\n",
       "      <td>98</td>\n",
       "      <td>98.000000</td>\n",
       "      <td>98</td>\n",
       "      <td>98</td>\n",
       "    </tr>\n",
       "    <tr>\n",
       "      <th>unique</th>\n",
       "      <td>NaN</td>\n",
       "      <td>98</td>\n",
       "      <td>5</td>\n",
       "      <td>NaN</td>\n",
       "      <td>NaN</td>\n",
       "      <td>NaN</td>\n",
       "      <td>NaN</td>\n",
       "      <td>NaN</td>\n",
       "      <td>NaN</td>\n",
       "      <td>NaN</td>\n",
       "      <td>NaN</td>\n",
       "      <td>NaN</td>\n",
       "      <td>NaN</td>\n",
       "      <td>NaN</td>\n",
       "      <td>NaN</td>\n",
       "      <td>NaN</td>\n",
       "      <td>NaN</td>\n",
       "      <td>80</td>\n",
       "      <td>NaN</td>\n",
       "      <td>98</td>\n",
       "      <td>98</td>\n",
       "    </tr>\n",
       "    <tr>\n",
       "      <th>top</th>\n",
       "      <td>NaN</td>\n",
       "      <td>Manchester City</td>\n",
       "      <td>ENG</td>\n",
       "      <td>NaN</td>\n",
       "      <td>NaN</td>\n",
       "      <td>NaN</td>\n",
       "      <td>NaN</td>\n",
       "      <td>NaN</td>\n",
       "      <td>NaN</td>\n",
       "      <td>NaN</td>\n",
       "      <td>NaN</td>\n",
       "      <td>NaN</td>\n",
       "      <td>NaN</td>\n",
       "      <td>NaN</td>\n",
       "      <td>NaN</td>\n",
       "      <td>NaN</td>\n",
       "      <td>NaN</td>\n",
       "      <td>W W W L L</td>\n",
       "      <td>NaN</td>\n",
       "      <td>Kevin De Bruyne - 15</td>\n",
       "      <td>Ederson</td>\n",
       "    </tr>\n",
       "    <tr>\n",
       "      <th>freq</th>\n",
       "      <td>NaN</td>\n",
       "      <td>1</td>\n",
       "      <td>20</td>\n",
       "      <td>NaN</td>\n",
       "      <td>NaN</td>\n",
       "      <td>NaN</td>\n",
       "      <td>NaN</td>\n",
       "      <td>NaN</td>\n",
       "      <td>NaN</td>\n",
       "      <td>NaN</td>\n",
       "      <td>NaN</td>\n",
       "      <td>NaN</td>\n",
       "      <td>NaN</td>\n",
       "      <td>NaN</td>\n",
       "      <td>NaN</td>\n",
       "      <td>NaN</td>\n",
       "      <td>NaN</td>\n",
       "      <td>4</td>\n",
       "      <td>NaN</td>\n",
       "      <td>1</td>\n",
       "      <td>1</td>\n",
       "    </tr>\n",
       "    <tr>\n",
       "      <th>mean</th>\n",
       "      <td>49.500000</td>\n",
       "      <td>NaN</td>\n",
       "      <td>NaN</td>\n",
       "      <td>10.316327</td>\n",
       "      <td>36.306122</td>\n",
       "      <td>13.448980</td>\n",
       "      <td>9.408163</td>\n",
       "      <td>13.44898</td>\n",
       "      <td>50.877551</td>\n",
       "      <td>50.877551</td>\n",
       "      <td>0.000000</td>\n",
       "      <td>49.734694</td>\n",
       "      <td>1.370204</td>\n",
       "      <td>48.653061</td>\n",
       "      <td>48.645918</td>\n",
       "      <td>-0.005102</td>\n",
       "      <td>0.000918</td>\n",
       "      <td>NaN</td>\n",
       "      <td>24239.857143</td>\n",
       "      <td>NaN</td>\n",
       "      <td>NaN</td>\n",
       "    </tr>\n",
       "    <tr>\n",
       "      <th>std</th>\n",
       "      <td>28.434134</td>\n",
       "      <td>NaN</td>\n",
       "      <td>NaN</td>\n",
       "      <td>5.706926</td>\n",
       "      <td>1.152390</td>\n",
       "      <td>5.747474</td>\n",
       "      <td>2.903381</td>\n",
       "      <td>5.12347</td>\n",
       "      <td>16.102933</td>\n",
       "      <td>13.634602</td>\n",
       "      <td>26.501896</td>\n",
       "      <td>16.166371</td>\n",
       "      <td>0.443903</td>\n",
       "      <td>12.453950</td>\n",
       "      <td>9.812481</td>\n",
       "      <td>19.992506</td>\n",
       "      <td>0.551414</td>\n",
       "      <td>NaN</td>\n",
       "      <td>14874.171842</td>\n",
       "      <td>NaN</td>\n",
       "      <td>NaN</td>\n",
       "    </tr>\n",
       "    <tr>\n",
       "      <th>min</th>\n",
       "      <td>1.000000</td>\n",
       "      <td>NaN</td>\n",
       "      <td>NaN</td>\n",
       "      <td>1.000000</td>\n",
       "      <td>34.000000</td>\n",
       "      <td>3.000000</td>\n",
       "      <td>3.000000</td>\n",
       "      <td>2.00000</td>\n",
       "      <td>23.000000</td>\n",
       "      <td>24.000000</td>\n",
       "      <td>-56.000000</td>\n",
       "      <td>18.000000</td>\n",
       "      <td>0.530000</td>\n",
       "      <td>28.200000</td>\n",
       "      <td>26.800000</td>\n",
       "      <td>-40.400000</td>\n",
       "      <td>-1.090000</td>\n",
       "      <td>NaN</td>\n",
       "      <td>5870.000000</td>\n",
       "      <td>NaN</td>\n",
       "      <td>NaN</td>\n",
       "    </tr>\n",
       "    <tr>\n",
       "      <th>25%</th>\n",
       "      <td>25.250000</td>\n",
       "      <td>NaN</td>\n",
       "      <td>NaN</td>\n",
       "      <td>5.250000</td>\n",
       "      <td>36.000000</td>\n",
       "      <td>9.000000</td>\n",
       "      <td>7.000000</td>\n",
       "      <td>10.00000</td>\n",
       "      <td>39.000000</td>\n",
       "      <td>40.000000</td>\n",
       "      <td>-17.750000</td>\n",
       "      <td>37.000000</td>\n",
       "      <td>1.000000</td>\n",
       "      <td>39.100000</td>\n",
       "      <td>41.300000</td>\n",
       "      <td>-13.575000</td>\n",
       "      <td>-0.365000</td>\n",
       "      <td>NaN</td>\n",
       "      <td>12355.500000</td>\n",
       "      <td>NaN</td>\n",
       "      <td>NaN</td>\n",
       "    </tr>\n",
       "    <tr>\n",
       "      <th>50%</th>\n",
       "      <td>49.500000</td>\n",
       "      <td>NaN</td>\n",
       "      <td>NaN</td>\n",
       "      <td>10.000000</td>\n",
       "      <td>37.000000</td>\n",
       "      <td>13.000000</td>\n",
       "      <td>9.000000</td>\n",
       "      <td>13.00000</td>\n",
       "      <td>47.000000</td>\n",
       "      <td>50.000000</td>\n",
       "      <td>-1.000000</td>\n",
       "      <td>46.000000</td>\n",
       "      <td>1.300000</td>\n",
       "      <td>46.450000</td>\n",
       "      <td>47.750000</td>\n",
       "      <td>-1.100000</td>\n",
       "      <td>-0.030000</td>\n",
       "      <td>NaN</td>\n",
       "      <td>20491.000000</td>\n",
       "      <td>NaN</td>\n",
       "      <td>NaN</td>\n",
       "    </tr>\n",
       "    <tr>\n",
       "      <th>75%</th>\n",
       "      <td>73.750000</td>\n",
       "      <td>NaN</td>\n",
       "      <td>NaN</td>\n",
       "      <td>15.000000</td>\n",
       "      <td>37.000000</td>\n",
       "      <td>17.000000</td>\n",
       "      <td>11.000000</td>\n",
       "      <td>17.00000</td>\n",
       "      <td>60.000000</td>\n",
       "      <td>59.000000</td>\n",
       "      <td>17.250000</td>\n",
       "      <td>61.750000</td>\n",
       "      <td>1.695000</td>\n",
       "      <td>55.550000</td>\n",
       "      <td>54.700000</td>\n",
       "      <td>12.800000</td>\n",
       "      <td>0.355000</td>\n",
       "      <td>NaN</td>\n",
       "      <td>32382.000000</td>\n",
       "      <td>NaN</td>\n",
       "      <td>NaN</td>\n",
       "    </tr>\n",
       "    <tr>\n",
       "      <th>max</th>\n",
       "      <td>98.000000</td>\n",
       "      <td>NaN</td>\n",
       "      <td>NaN</td>\n",
       "      <td>20.000000</td>\n",
       "      <td>37.000000</td>\n",
       "      <td>28.000000</td>\n",
       "      <td>16.000000</td>\n",
       "      <td>26.00000</td>\n",
       "      <td>97.000000</td>\n",
       "      <td>89.000000</td>\n",
       "      <td>72.000000</td>\n",
       "      <td>90.000000</td>\n",
       "      <td>2.430000</td>\n",
       "      <td>88.100000</td>\n",
       "      <td>73.300000</td>\n",
       "      <td>59.300000</td>\n",
       "      <td>1.600000</td>\n",
       "      <td>NaN</td>\n",
       "      <td>73150.000000</td>\n",
       "      <td>NaN</td>\n",
       "      <td>NaN</td>\n",
       "    </tr>\n",
       "  </tbody>\n",
       "</table>\n",
       "</div>"
      ],
      "text/plain": [
       "               Rk            Squad Country       LgRk         MP          W  \\\n",
       "count   98.000000               98      98  98.000000  98.000000  98.000000   \n",
       "unique        NaN               98       5        NaN        NaN        NaN   \n",
       "top           NaN  Manchester City     ENG        NaN        NaN        NaN   \n",
       "freq          NaN                1      20        NaN        NaN        NaN   \n",
       "mean    49.500000              NaN     NaN  10.316327  36.306122  13.448980   \n",
       "std     28.434134              NaN     NaN   5.706926   1.152390   5.747474   \n",
       "min      1.000000              NaN     NaN   1.000000  34.000000   3.000000   \n",
       "25%     25.250000              NaN     NaN   5.250000  36.000000   9.000000   \n",
       "50%     49.500000              NaN     NaN  10.000000  37.000000  13.000000   \n",
       "75%     73.750000              NaN     NaN  15.000000  37.000000  17.000000   \n",
       "max     98.000000              NaN     NaN  20.000000  37.000000  28.000000   \n",
       "\n",
       "                D         L         GF         GA         GD        Pts  \\\n",
       "count   98.000000  98.00000  98.000000  98.000000  98.000000  98.000000   \n",
       "unique        NaN       NaN        NaN        NaN        NaN        NaN   \n",
       "top           NaN       NaN        NaN        NaN        NaN        NaN   \n",
       "freq          NaN       NaN        NaN        NaN        NaN        NaN   \n",
       "mean     9.408163  13.44898  50.877551  50.877551   0.000000  49.734694   \n",
       "std      2.903381   5.12347  16.102933  13.634602  26.501896  16.166371   \n",
       "min      3.000000   2.00000  23.000000  24.000000 -56.000000  18.000000   \n",
       "25%      7.000000  10.00000  39.000000  40.000000 -17.750000  37.000000   \n",
       "50%      9.000000  13.00000  47.000000  50.000000  -1.000000  46.000000   \n",
       "75%     11.000000  17.00000  60.000000  59.000000  17.250000  61.750000   \n",
       "max     16.000000  26.00000  97.000000  89.000000  72.000000  90.000000   \n",
       "\n",
       "            Pts/G         xG        xGA        xGD     xGD/90     Last 5  \\\n",
       "count   98.000000  98.000000  98.000000  98.000000  98.000000         98   \n",
       "unique        NaN        NaN        NaN        NaN        NaN         80   \n",
       "top           NaN        NaN        NaN        NaN        NaN  W W W L L   \n",
       "freq          NaN        NaN        NaN        NaN        NaN          4   \n",
       "mean     1.370204  48.653061  48.645918  -0.005102   0.000918        NaN   \n",
       "std      0.443903  12.453950   9.812481  19.992506   0.551414        NaN   \n",
       "min      0.530000  28.200000  26.800000 -40.400000  -1.090000        NaN   \n",
       "25%      1.000000  39.100000  41.300000 -13.575000  -0.365000        NaN   \n",
       "50%      1.300000  46.450000  47.750000  -1.100000  -0.030000        NaN   \n",
       "75%      1.695000  55.550000  54.700000  12.800000   0.355000        NaN   \n",
       "max      2.430000  88.100000  73.300000  59.300000   1.600000        NaN   \n",
       "\n",
       "          Attendance       Top Team Scorer Goalkeeper  \n",
       "count      98.000000                    98         98  \n",
       "unique           NaN                    98         98  \n",
       "top              NaN  Kevin De Bruyne - 15    Ederson  \n",
       "freq             NaN                     1          1  \n",
       "mean    24239.857143                   NaN        NaN  \n",
       "std     14874.171842                   NaN        NaN  \n",
       "min      5870.000000                   NaN        NaN  \n",
       "25%     12355.500000                   NaN        NaN  \n",
       "50%     20491.000000                   NaN        NaN  \n",
       "75%     32382.000000                   NaN        NaN  \n",
       "max     73150.000000                   NaN        NaN  "
      ]
     },
     "execution_count": 9,
     "metadata": {},
     "output_type": "execute_result"
    }
   ],
   "source": [
    "Uefa.describe(include='all')"
   ]
  },
  {
   "cell_type": "markdown",
   "id": "3166ad2c",
   "metadata": {},
   "source": [
    "### TEST DE HIPOTESIS CON UNA VARIABLE"
   ]
  },
  {
   "cell_type": "markdown",
   "id": "bd65e7bd",
   "metadata": {},
   "source": [
    "El sentido común parece indicar que la media de diferencia de goles de todos los equipos participantes es 0.No obstante, si escogemos una muestra aleatoria del dataset, esta diferencia no es 0. \n",
    "\n",
    "Queremos validar en que medida la diferencia observada en la media de diferencia de goles en una muestra cualquiera es compatible con una media de la población de 0. Vamos a comprobarlo con un test de hipotesis."
   ]
  },
  {
   "cell_type": "markdown",
   "id": "79737168",
   "metadata": {},
   "source": [
    "Seleccionamos una muestra aleatoria de 30 elementos:"
   ]
  },
  {
   "cell_type": "code",
   "execution_count": 10,
   "id": "7d139cb3",
   "metadata": {},
   "outputs": [],
   "source": [
    "muestra=Uefa.sample(n=30)"
   ]
  },
  {
   "cell_type": "code",
   "execution_count": 11,
   "id": "351d4102",
   "metadata": {},
   "outputs": [
    {
     "data": {
      "text/html": [
       "<div>\n",
       "<style scoped>\n",
       "    .dataframe tbody tr th:only-of-type {\n",
       "        vertical-align: middle;\n",
       "    }\n",
       "\n",
       "    .dataframe tbody tr th {\n",
       "        vertical-align: top;\n",
       "    }\n",
       "\n",
       "    .dataframe thead th {\n",
       "        text-align: right;\n",
       "    }\n",
       "</style>\n",
       "<table border=\"1\" class=\"dataframe\">\n",
       "  <thead>\n",
       "    <tr style=\"text-align: right;\">\n",
       "      <th></th>\n",
       "      <th>Rk</th>\n",
       "      <th>Squad</th>\n",
       "      <th>Country</th>\n",
       "      <th>LgRk</th>\n",
       "      <th>MP</th>\n",
       "      <th>W</th>\n",
       "      <th>D</th>\n",
       "      <th>L</th>\n",
       "      <th>GF</th>\n",
       "      <th>GA</th>\n",
       "      <th>GD</th>\n",
       "      <th>Pts</th>\n",
       "      <th>Pts/G</th>\n",
       "      <th>xG</th>\n",
       "      <th>xGA</th>\n",
       "      <th>xGD</th>\n",
       "      <th>xGD/90</th>\n",
       "      <th>Last 5</th>\n",
       "      <th>Attendance</th>\n",
       "      <th>Top Team Scorer</th>\n",
       "      <th>Goalkeeper</th>\n",
       "    </tr>\n",
       "  </thead>\n",
       "  <tbody>\n",
       "    <tr>\n",
       "      <th>23</th>\n",
       "      <td>24</td>\n",
       "      <td>Strasbourg</td>\n",
       "      <td>FRA</td>\n",
       "      <td>5</td>\n",
       "      <td>37</td>\n",
       "      <td>17</td>\n",
       "      <td>12</td>\n",
       "      <td>8</td>\n",
       "      <td>60</td>\n",
       "      <td>39</td>\n",
       "      <td>21</td>\n",
       "      <td>63</td>\n",
       "      <td>1.70</td>\n",
       "      <td>58.5</td>\n",
       "      <td>39.9</td>\n",
       "      <td>18.5</td>\n",
       "      <td>0.50</td>\n",
       "      <td>W L D W W</td>\n",
       "      <td>23462</td>\n",
       "      <td>Ludovic Ajorque - 12</td>\n",
       "      <td>Matz Sels</td>\n",
       "    </tr>\n",
       "    <tr>\n",
       "      <th>44</th>\n",
       "      <td>45</td>\n",
       "      <td>Sassuolo</td>\n",
       "      <td>ITA</td>\n",
       "      <td>11</td>\n",
       "      <td>37</td>\n",
       "      <td>13</td>\n",
       "      <td>11</td>\n",
       "      <td>13</td>\n",
       "      <td>64</td>\n",
       "      <td>63</td>\n",
       "      <td>1</td>\n",
       "      <td>50</td>\n",
       "      <td>1.35</td>\n",
       "      <td>55.6</td>\n",
       "      <td>63.9</td>\n",
       "      <td>-8.3</td>\n",
       "      <td>-0.22</td>\n",
       "      <td>L L L D W</td>\n",
       "      <td>7638</td>\n",
       "      <td>Gianluca Scamacca - 16</td>\n",
       "      <td>Andrea Consigli</td>\n",
       "    </tr>\n",
       "    <tr>\n",
       "      <th>36</th>\n",
       "      <td>37</td>\n",
       "      <td>West Ham</td>\n",
       "      <td>ENG</td>\n",
       "      <td>7</td>\n",
       "      <td>37</td>\n",
       "      <td>16</td>\n",
       "      <td>8</td>\n",
       "      <td>13</td>\n",
       "      <td>59</td>\n",
       "      <td>48</td>\n",
       "      <td>11</td>\n",
       "      <td>56</td>\n",
       "      <td>1.51</td>\n",
       "      <td>49.8</td>\n",
       "      <td>49.4</td>\n",
       "      <td>0.4</td>\n",
       "      <td>0.01</td>\n",
       "      <td>D L L W D</td>\n",
       "      <td>58370</td>\n",
       "      <td>Jarrod Bowen - 12</td>\n",
       "      <td>?ukasz Fabia?ski</td>\n",
       "    </tr>\n",
       "  </tbody>\n",
       "</table>\n",
       "</div>"
      ],
      "text/plain": [
       "    Rk       Squad Country  LgRk  MP   W   D   L  GF  GA  GD  Pts  Pts/G  \\\n",
       "23  24  Strasbourg     FRA     5  37  17  12   8  60  39  21   63   1.70   \n",
       "44  45    Sassuolo     ITA    11  37  13  11  13  64  63   1   50   1.35   \n",
       "36  37    West Ham     ENG     7  37  16   8  13  59  48  11   56   1.51   \n",
       "\n",
       "      xG   xGA   xGD  xGD/90     Last 5  Attendance         Top Team Scorer  \\\n",
       "23  58.5  39.9  18.5    0.50  W L D W W       23462    Ludovic Ajorque - 12   \n",
       "44  55.6  63.9  -8.3   -0.22  L L L D W        7638  Gianluca Scamacca - 16   \n",
       "36  49.8  49.4   0.4    0.01  D L L W D       58370       Jarrod Bowen - 12   \n",
       "\n",
       "          Goalkeeper  \n",
       "23         Matz Sels  \n",
       "44   Andrea Consigli  \n",
       "36  ?ukasz Fabia?ski  "
      ]
     },
     "execution_count": 11,
     "metadata": {},
     "output_type": "execute_result"
    }
   ],
   "source": [
    "muestra.head(3)"
   ]
  },
  {
   "cell_type": "code",
   "execution_count": 12,
   "id": "c4f7f5ca",
   "metadata": {},
   "outputs": [
    {
     "data": {
      "text/html": [
       "<div>\n",
       "<style scoped>\n",
       "    .dataframe tbody tr th:only-of-type {\n",
       "        vertical-align: middle;\n",
       "    }\n",
       "\n",
       "    .dataframe tbody tr th {\n",
       "        vertical-align: top;\n",
       "    }\n",
       "\n",
       "    .dataframe thead th {\n",
       "        text-align: right;\n",
       "    }\n",
       "</style>\n",
       "<table border=\"1\" class=\"dataframe\">\n",
       "  <thead>\n",
       "    <tr style=\"text-align: right;\">\n",
       "      <th></th>\n",
       "      <th>Rk</th>\n",
       "      <th>Squad</th>\n",
       "      <th>Country</th>\n",
       "      <th>LgRk</th>\n",
       "      <th>MP</th>\n",
       "      <th>W</th>\n",
       "      <th>D</th>\n",
       "      <th>L</th>\n",
       "      <th>GF</th>\n",
       "      <th>GA</th>\n",
       "      <th>GD</th>\n",
       "      <th>Pts</th>\n",
       "      <th>Pts/G</th>\n",
       "      <th>xG</th>\n",
       "      <th>xGA</th>\n",
       "      <th>xGD</th>\n",
       "      <th>xGD/90</th>\n",
       "      <th>Last 5</th>\n",
       "      <th>Attendance</th>\n",
       "      <th>Top Team Scorer</th>\n",
       "      <th>Goalkeeper</th>\n",
       "    </tr>\n",
       "  </thead>\n",
       "  <tbody>\n",
       "    <tr>\n",
       "      <th>count</th>\n",
       "      <td>30.000000</td>\n",
       "      <td>30</td>\n",
       "      <td>30</td>\n",
       "      <td>30.000000</td>\n",
       "      <td>30.000000</td>\n",
       "      <td>30.000000</td>\n",
       "      <td>30.000000</td>\n",
       "      <td>30.000000</td>\n",
       "      <td>30.000000</td>\n",
       "      <td>30.00000</td>\n",
       "      <td>30.000000</td>\n",
       "      <td>30.000000</td>\n",
       "      <td>30.000000</td>\n",
       "      <td>30.000000</td>\n",
       "      <td>30.000000</td>\n",
       "      <td>30.000000</td>\n",
       "      <td>30.000000</td>\n",
       "      <td>30</td>\n",
       "      <td>30.000000</td>\n",
       "      <td>30</td>\n",
       "      <td>30</td>\n",
       "    </tr>\n",
       "    <tr>\n",
       "      <th>unique</th>\n",
       "      <td>NaN</td>\n",
       "      <td>30</td>\n",
       "      <td>5</td>\n",
       "      <td>NaN</td>\n",
       "      <td>NaN</td>\n",
       "      <td>NaN</td>\n",
       "      <td>NaN</td>\n",
       "      <td>NaN</td>\n",
       "      <td>NaN</td>\n",
       "      <td>NaN</td>\n",
       "      <td>NaN</td>\n",
       "      <td>NaN</td>\n",
       "      <td>NaN</td>\n",
       "      <td>NaN</td>\n",
       "      <td>NaN</td>\n",
       "      <td>NaN</td>\n",
       "      <td>NaN</td>\n",
       "      <td>29</td>\n",
       "      <td>NaN</td>\n",
       "      <td>30</td>\n",
       "      <td>30</td>\n",
       "    </tr>\n",
       "    <tr>\n",
       "      <th>top</th>\n",
       "      <td>NaN</td>\n",
       "      <td>Strasbourg</td>\n",
       "      <td>ITA</td>\n",
       "      <td>NaN</td>\n",
       "      <td>NaN</td>\n",
       "      <td>NaN</td>\n",
       "      <td>NaN</td>\n",
       "      <td>NaN</td>\n",
       "      <td>NaN</td>\n",
       "      <td>NaN</td>\n",
       "      <td>NaN</td>\n",
       "      <td>NaN</td>\n",
       "      <td>NaN</td>\n",
       "      <td>NaN</td>\n",
       "      <td>NaN</td>\n",
       "      <td>NaN</td>\n",
       "      <td>NaN</td>\n",
       "      <td>W W W W W</td>\n",
       "      <td>NaN</td>\n",
       "      <td>Ludovic Ajorque - 12</td>\n",
       "      <td>Matz Sels</td>\n",
       "    </tr>\n",
       "    <tr>\n",
       "      <th>freq</th>\n",
       "      <td>NaN</td>\n",
       "      <td>1</td>\n",
       "      <td>10</td>\n",
       "      <td>NaN</td>\n",
       "      <td>NaN</td>\n",
       "      <td>NaN</td>\n",
       "      <td>NaN</td>\n",
       "      <td>NaN</td>\n",
       "      <td>NaN</td>\n",
       "      <td>NaN</td>\n",
       "      <td>NaN</td>\n",
       "      <td>NaN</td>\n",
       "      <td>NaN</td>\n",
       "      <td>NaN</td>\n",
       "      <td>NaN</td>\n",
       "      <td>NaN</td>\n",
       "      <td>NaN</td>\n",
       "      <td>2</td>\n",
       "      <td>NaN</td>\n",
       "      <td>1</td>\n",
       "      <td>1</td>\n",
       "    </tr>\n",
       "    <tr>\n",
       "      <th>mean</th>\n",
       "      <td>43.866667</td>\n",
       "      <td>NaN</td>\n",
       "      <td>NaN</td>\n",
       "      <td>9.200000</td>\n",
       "      <td>36.400000</td>\n",
       "      <td>14.633333</td>\n",
       "      <td>9.166667</td>\n",
       "      <td>12.600000</td>\n",
       "      <td>54.600000</td>\n",
       "      <td>48.40000</td>\n",
       "      <td>6.200000</td>\n",
       "      <td>53.033333</td>\n",
       "      <td>1.455333</td>\n",
       "      <td>52.303333</td>\n",
       "      <td>47.256667</td>\n",
       "      <td>5.036667</td>\n",
       "      <td>0.135333</td>\n",
       "      <td>NaN</td>\n",
       "      <td>23464.166667</td>\n",
       "      <td>NaN</td>\n",
       "      <td>NaN</td>\n",
       "    </tr>\n",
       "    <tr>\n",
       "      <th>std</th>\n",
       "      <td>25.371357</td>\n",
       "      <td>NaN</td>\n",
       "      <td>NaN</td>\n",
       "      <td>5.175539</td>\n",
       "      <td>1.132589</td>\n",
       "      <td>5.653704</td>\n",
       "      <td>3.227931</td>\n",
       "      <td>4.383354</td>\n",
       "      <td>14.798882</td>\n",
       "      <td>13.22641</td>\n",
       "      <td>24.833792</td>\n",
       "      <td>15.499685</td>\n",
       "      <td>0.410725</td>\n",
       "      <td>11.094064</td>\n",
       "      <td>9.501712</td>\n",
       "      <td>18.208495</td>\n",
       "      <td>0.497800</td>\n",
       "      <td>NaN</td>\n",
       "      <td>14941.399406</td>\n",
       "      <td>NaN</td>\n",
       "      <td>NaN</td>\n",
       "    </tr>\n",
       "    <tr>\n",
       "      <th>min</th>\n",
       "      <td>1.000000</td>\n",
       "      <td>NaN</td>\n",
       "      <td>NaN</td>\n",
       "      <td>1.000000</td>\n",
       "      <td>34.000000</td>\n",
       "      <td>4.000000</td>\n",
       "      <td>5.000000</td>\n",
       "      <td>3.000000</td>\n",
       "      <td>27.000000</td>\n",
       "      <td>24.00000</td>\n",
       "      <td>-38.000000</td>\n",
       "      <td>28.000000</td>\n",
       "      <td>0.760000</td>\n",
       "      <td>34.500000</td>\n",
       "      <td>26.800000</td>\n",
       "      <td>-23.400000</td>\n",
       "      <td>-0.630000</td>\n",
       "      <td>NaN</td>\n",
       "      <td>5870.000000</td>\n",
       "      <td>NaN</td>\n",
       "      <td>NaN</td>\n",
       "    </tr>\n",
       "    <tr>\n",
       "      <th>25%</th>\n",
       "      <td>24.250000</td>\n",
       "      <td>NaN</td>\n",
       "      <td>NaN</td>\n",
       "      <td>5.250000</td>\n",
       "      <td>36.250000</td>\n",
       "      <td>10.250000</td>\n",
       "      <td>7.000000</td>\n",
       "      <td>10.250000</td>\n",
       "      <td>43.750000</td>\n",
       "      <td>38.00000</td>\n",
       "      <td>-10.000000</td>\n",
       "      <td>42.500000</td>\n",
       "      <td>1.220000</td>\n",
       "      <td>44.675000</td>\n",
       "      <td>40.375000</td>\n",
       "      <td>-8.375000</td>\n",
       "      <td>-0.227500</td>\n",
       "      <td>NaN</td>\n",
       "      <td>11628.250000</td>\n",
       "      <td>NaN</td>\n",
       "      <td>NaN</td>\n",
       "    </tr>\n",
       "    <tr>\n",
       "      <th>50%</th>\n",
       "      <td>44.000000</td>\n",
       "      <td>NaN</td>\n",
       "      <td>NaN</td>\n",
       "      <td>9.500000</td>\n",
       "      <td>37.000000</td>\n",
       "      <td>13.000000</td>\n",
       "      <td>8.000000</td>\n",
       "      <td>13.000000</td>\n",
       "      <td>52.500000</td>\n",
       "      <td>47.50000</td>\n",
       "      <td>4.500000</td>\n",
       "      <td>50.000000</td>\n",
       "      <td>1.350000</td>\n",
       "      <td>52.300000</td>\n",
       "      <td>45.550000</td>\n",
       "      <td>1.450000</td>\n",
       "      <td>0.040000</td>\n",
       "      <td>NaN</td>\n",
       "      <td>17639.500000</td>\n",
       "      <td>NaN</td>\n",
       "      <td>NaN</td>\n",
       "    </tr>\n",
       "    <tr>\n",
       "      <th>75%</th>\n",
       "      <td>59.750000</td>\n",
       "      <td>NaN</td>\n",
       "      <td>NaN</td>\n",
       "      <td>12.750000</td>\n",
       "      <td>37.000000</td>\n",
       "      <td>17.750000</td>\n",
       "      <td>11.000000</td>\n",
       "      <td>16.000000</td>\n",
       "      <td>62.750000</td>\n",
       "      <td>57.50000</td>\n",
       "      <td>20.250000</td>\n",
       "      <td>62.250000</td>\n",
       "      <td>1.700000</td>\n",
       "      <td>58.075000</td>\n",
       "      <td>53.100000</td>\n",
       "      <td>17.475000</td>\n",
       "      <td>0.475000</td>\n",
       "      <td>NaN</td>\n",
       "      <td>35468.250000</td>\n",
       "      <td>NaN</td>\n",
       "      <td>NaN</td>\n",
       "    </tr>\n",
       "    <tr>\n",
       "      <th>max</th>\n",
       "      <td>93.000000</td>\n",
       "      <td>NaN</td>\n",
       "      <td>NaN</td>\n",
       "      <td>19.000000</td>\n",
       "      <td>37.000000</td>\n",
       "      <td>28.000000</td>\n",
       "      <td>16.000000</td>\n",
       "      <td>21.000000</td>\n",
       "      <td>96.000000</td>\n",
       "      <td>78.00000</td>\n",
       "      <td>72.000000</td>\n",
       "      <td>90.000000</td>\n",
       "      <td>2.430000</td>\n",
       "      <td>86.100000</td>\n",
       "      <td>69.100000</td>\n",
       "      <td>59.300000</td>\n",
       "      <td>1.600000</td>\n",
       "      <td>NaN</td>\n",
       "      <td>58370.000000</td>\n",
       "      <td>NaN</td>\n",
       "      <td>NaN</td>\n",
       "    </tr>\n",
       "  </tbody>\n",
       "</table>\n",
       "</div>"
      ],
      "text/plain": [
       "               Rk       Squad Country       LgRk         MP          W  \\\n",
       "count   30.000000          30      30  30.000000  30.000000  30.000000   \n",
       "unique        NaN          30       5        NaN        NaN        NaN   \n",
       "top           NaN  Strasbourg     ITA        NaN        NaN        NaN   \n",
       "freq          NaN           1      10        NaN        NaN        NaN   \n",
       "mean    43.866667         NaN     NaN   9.200000  36.400000  14.633333   \n",
       "std     25.371357         NaN     NaN   5.175539   1.132589   5.653704   \n",
       "min      1.000000         NaN     NaN   1.000000  34.000000   4.000000   \n",
       "25%     24.250000         NaN     NaN   5.250000  36.250000  10.250000   \n",
       "50%     44.000000         NaN     NaN   9.500000  37.000000  13.000000   \n",
       "75%     59.750000         NaN     NaN  12.750000  37.000000  17.750000   \n",
       "max     93.000000         NaN     NaN  19.000000  37.000000  28.000000   \n",
       "\n",
       "                D          L         GF        GA         GD        Pts  \\\n",
       "count   30.000000  30.000000  30.000000  30.00000  30.000000  30.000000   \n",
       "unique        NaN        NaN        NaN       NaN        NaN        NaN   \n",
       "top           NaN        NaN        NaN       NaN        NaN        NaN   \n",
       "freq          NaN        NaN        NaN       NaN        NaN        NaN   \n",
       "mean     9.166667  12.600000  54.600000  48.40000   6.200000  53.033333   \n",
       "std      3.227931   4.383354  14.798882  13.22641  24.833792  15.499685   \n",
       "min      5.000000   3.000000  27.000000  24.00000 -38.000000  28.000000   \n",
       "25%      7.000000  10.250000  43.750000  38.00000 -10.000000  42.500000   \n",
       "50%      8.000000  13.000000  52.500000  47.50000   4.500000  50.000000   \n",
       "75%     11.000000  16.000000  62.750000  57.50000  20.250000  62.250000   \n",
       "max     16.000000  21.000000  96.000000  78.00000  72.000000  90.000000   \n",
       "\n",
       "            Pts/G         xG        xGA        xGD     xGD/90     Last 5  \\\n",
       "count   30.000000  30.000000  30.000000  30.000000  30.000000         30   \n",
       "unique        NaN        NaN        NaN        NaN        NaN         29   \n",
       "top           NaN        NaN        NaN        NaN        NaN  W W W W W   \n",
       "freq          NaN        NaN        NaN        NaN        NaN          2   \n",
       "mean     1.455333  52.303333  47.256667   5.036667   0.135333        NaN   \n",
       "std      0.410725  11.094064   9.501712  18.208495   0.497800        NaN   \n",
       "min      0.760000  34.500000  26.800000 -23.400000  -0.630000        NaN   \n",
       "25%      1.220000  44.675000  40.375000  -8.375000  -0.227500        NaN   \n",
       "50%      1.350000  52.300000  45.550000   1.450000   0.040000        NaN   \n",
       "75%      1.700000  58.075000  53.100000  17.475000   0.475000        NaN   \n",
       "max      2.430000  86.100000  69.100000  59.300000   1.600000        NaN   \n",
       "\n",
       "          Attendance       Top Team Scorer Goalkeeper  \n",
       "count      30.000000                    30         30  \n",
       "unique           NaN                    30         30  \n",
       "top              NaN  Ludovic Ajorque - 12  Matz Sels  \n",
       "freq             NaN                     1          1  \n",
       "mean    23464.166667                   NaN        NaN  \n",
       "std     14941.399406                   NaN        NaN  \n",
       "min      5870.000000                   NaN        NaN  \n",
       "25%     11628.250000                   NaN        NaN  \n",
       "50%     17639.500000                   NaN        NaN  \n",
       "75%     35468.250000                   NaN        NaN  \n",
       "max     58370.000000                   NaN        NaN  "
      ]
     },
     "execution_count": 12,
     "metadata": {},
     "output_type": "execute_result"
    }
   ],
   "source": [
    "muestra.describe(include='all')"
   ]
  },
  {
   "cell_type": "code",
   "execution_count": 13,
   "id": "9149c162",
   "metadata": {},
   "outputs": [
    {
     "data": {
      "text/plain": [
       "6.2"
      ]
     },
     "execution_count": 13,
     "metadata": {},
     "output_type": "execute_result"
    }
   ],
   "source": [
    "round(muestra.GD.mean(),3)"
   ]
  },
  {
   "cell_type": "markdown",
   "id": "c0d9cea4",
   "metadata": {},
   "source": [
    "La idea es utilizar **LA PRUEBA DEL TEST DE STUDENT DE UNA MUESTRA (one sample t-test)**.  \n",
    "\n",
    "Antes de poder usar este test, tenemos que validar si los siguientes supuestos se cumplen:\n",
    "- La muestra está extraida al azar (randomly) de la población estudiada : SI\n",
    "- La variable estudiada está normalmente distribuida en la población : vamos a verlo con un test de Shapiro Wilk"
   ]
  },
  {
   "cell_type": "markdown",
   "id": "e6989524",
   "metadata": {},
   "source": [
    "#### TEST DE SHAPIRO WILK  DE LA POBLACION\n",
    "\n",
    "H0 : GD está normalmente distribuida  \n",
    "H1 : GD no está normalmente distribuida"
   ]
  },
  {
   "cell_type": "code",
   "execution_count": 41,
   "id": "d28e50fb",
   "metadata": {
    "scrolled": true
   },
   "outputs": [
    {
     "name": "stdout",
     "output_type": "stream",
     "text": [
      "stat 0.9861291646957397 p-value 0.39621347188949585\n"
     ]
    }
   ],
   "source": [
    "from scipy.stats import shapiro\n",
    "\n",
    "data = Uefa['GD']\n",
    "stat, p = shapiro(data)\n",
    "print('stat',stat,'p-value',p)\n"
   ]
  },
  {
   "cell_type": "markdown",
   "id": "e344fedd",
   "metadata": {},
   "source": [
    "Como el p_value es muy superior al 5%, aceptamos H0 conforme la variable GD está normalmente distribuida en la población.  "
   ]
  },
  {
   "cell_type": "code",
   "execution_count": 15,
   "id": "3a2082a6",
   "metadata": {},
   "outputs": [
    {
     "data": {
      "image/png": "[encoded data removed]",
      "text/plain": [
       "<Figure size 600x300 with 1 Axes>"
      ]
     },
     "metadata": {},
     "output_type": "display_data"
    }
   ],
   "source": [
    "sns.displot(x=Uefa.GD,kde=True,height=3,aspect=2)\n",
    "plt.show()"
   ]
  },
  {
   "cell_type": "markdown",
   "id": "a6b8c9b5",
   "metadata": {},
   "source": [
    "#### TEST DE STUDENT DE UNA MUESTRA \n",
    "\n",
    "H0 : la media de diferencias de goles es 0  \n",
    "H1 : la media de diferencias de goles no es igual a 0"
   ]
  },
  {
   "cell_type": "code",
   "execution_count": 16,
   "id": "88fefd2c",
   "metadata": {},
   "outputs": [],
   "source": [
    "from scipy.stats import ttest_1samp"
   ]
  },
  {
   "cell_type": "code",
   "execution_count": 17,
   "id": "1e7ef385",
   "metadata": {},
   "outputs": [],
   "source": [
    "ttest,p_value=ttest_1samp(muestra['GD'],popmean=0)"
   ]
  },
  {
   "cell_type": "code",
   "execution_count": 18,
   "id": "579d225e",
   "metadata": {},
   "outputs": [
    {
     "name": "stdout",
     "output_type": "stream",
     "text": [
      "0.18199204326191654\n"
     ]
    }
   ],
   "source": [
    "print(p_value)"
   ]
  },
  {
   "cell_type": "markdown",
   "id": "fcb73f46",
   "metadata": {},
   "source": [
    "Como el p_value es muy superior al 5%, aceptamos H0 conforme **la media de diferencias de goles de la población es 0**."
   ]
  },
  {
   "cell_type": "code",
   "execution_count": 19,
   "id": "135808fd",
   "metadata": {},
   "outputs": [
    {
     "data": {
      "text/plain": [
       "0.0"
      ]
     },
     "execution_count": 19,
     "metadata": {},
     "output_type": "execute_result"
    }
   ],
   "source": [
    "Uefa['GD'].mean()"
   ]
  },
  {
   "cell_type": "markdown",
   "id": "c43d4ea4",
   "metadata": {},
   "source": [
    "Efectivamente, la media de la población es 0."
   ]
  },
  {
   "cell_type": "markdown",
   "id": "21604646",
   "metadata": {},
   "source": [
    "## EXERCICI 2"
   ]
  },
  {
   "cell_type": "markdown",
   "id": "91a987f1",
   "metadata": {},
   "source": [
    "### TEST DE HIPOTESIS CON 2 VARIABLES  \n",
    "\n",
    "Nos planteamos si los resultados (total de puntos o 'Pts') por país son similares o diferentes.\n",
    "\n"
   ]
  },
  {
   "cell_type": "code",
   "execution_count": 20,
   "id": "c94d2fdc",
   "metadata": {
    "scrolled": true
   },
   "outputs": [
    {
     "data": {
      "text/html": [
       "<div>\n",
       "<style scoped>\n",
       "    .dataframe tbody tr th:only-of-type {\n",
       "        vertical-align: middle;\n",
       "    }\n",
       "\n",
       "    .dataframe tbody tr th {\n",
       "        vertical-align: top;\n",
       "    }\n",
       "\n",
       "    .dataframe thead th {\n",
       "        text-align: right;\n",
       "    }\n",
       "</style>\n",
       "<table border=\"1\" class=\"dataframe\">\n",
       "  <thead>\n",
       "    <tr style=\"text-align: right;\">\n",
       "      <th></th>\n",
       "      <th>Rk</th>\n",
       "      <th>LgRk</th>\n",
       "      <th>MP</th>\n",
       "      <th>W</th>\n",
       "      <th>D</th>\n",
       "      <th>L</th>\n",
       "      <th>GF</th>\n",
       "      <th>GA</th>\n",
       "      <th>GD</th>\n",
       "      <th>Pts</th>\n",
       "      <th>Pts/G</th>\n",
       "      <th>xG</th>\n",
       "      <th>xGA</th>\n",
       "      <th>xGD</th>\n",
       "      <th>xGD/90</th>\n",
       "      <th>Attendance</th>\n",
       "    </tr>\n",
       "    <tr>\n",
       "      <th>Country</th>\n",
       "      <th></th>\n",
       "      <th></th>\n",
       "      <th></th>\n",
       "      <th></th>\n",
       "      <th></th>\n",
       "      <th></th>\n",
       "      <th></th>\n",
       "      <th></th>\n",
       "      <th></th>\n",
       "      <th></th>\n",
       "      <th></th>\n",
       "      <th></th>\n",
       "      <th></th>\n",
       "      <th></th>\n",
       "      <th></th>\n",
       "      <th></th>\n",
       "    </tr>\n",
       "  </thead>\n",
       "  <tbody>\n",
       "    <tr>\n",
       "      <th>ENG</th>\n",
       "      <td>49.400000</td>\n",
       "      <td>10.5</td>\n",
       "      <td>36.5</td>\n",
       "      <td>13.950000</td>\n",
       "      <td>8.600000</td>\n",
       "      <td>13.950000</td>\n",
       "      <td>50.9</td>\n",
       "      <td>50.9</td>\n",
       "      <td>0.0</td>\n",
       "      <td>50.450000</td>\n",
       "      <td>1.381500</td>\n",
       "      <td>49.610000</td>\n",
       "      <td>49.600000</td>\n",
       "      <td>-0.010000</td>\n",
       "      <td>0.002000</td>\n",
       "      <td>39538.700000</td>\n",
       "    </tr>\n",
       "    <tr>\n",
       "      <th>ESP</th>\n",
       "      <td>50.450000</td>\n",
       "      <td>10.5</td>\n",
       "      <td>37.0</td>\n",
       "      <td>13.050000</td>\n",
       "      <td>10.900000</td>\n",
       "      <td>13.050000</td>\n",
       "      <td>46.5</td>\n",
       "      <td>46.5</td>\n",
       "      <td>0.0</td>\n",
       "      <td>50.050000</td>\n",
       "      <td>1.352500</td>\n",
       "      <td>45.525000</td>\n",
       "      <td>45.510000</td>\n",
       "      <td>-0.010000</td>\n",
       "      <td>0.000500</td>\n",
       "      <td>22937.600000</td>\n",
       "    </tr>\n",
       "    <tr>\n",
       "      <th>FRA</th>\n",
       "      <td>49.350000</td>\n",
       "      <td>10.5</td>\n",
       "      <td>37.0</td>\n",
       "      <td>13.600000</td>\n",
       "      <td>9.800000</td>\n",
       "      <td>13.600000</td>\n",
       "      <td>51.5</td>\n",
       "      <td>51.5</td>\n",
       "      <td>0.0</td>\n",
       "      <td>50.500000</td>\n",
       "      <td>1.365500</td>\n",
       "      <td>48.650000</td>\n",
       "      <td>48.655000</td>\n",
       "      <td>-0.005000</td>\n",
       "      <td>-0.000500</td>\n",
       "      <td>20314.000000</td>\n",
       "    </tr>\n",
       "    <tr>\n",
       "      <th>GER</th>\n",
       "      <td>47.888889</td>\n",
       "      <td>9.5</td>\n",
       "      <td>34.0</td>\n",
       "      <td>12.944444</td>\n",
       "      <td>8.111111</td>\n",
       "      <td>12.944444</td>\n",
       "      <td>53.0</td>\n",
       "      <td>53.0</td>\n",
       "      <td>0.0</td>\n",
       "      <td>46.944444</td>\n",
       "      <td>1.381111</td>\n",
       "      <td>50.166667</td>\n",
       "      <td>50.155556</td>\n",
       "      <td>-0.005556</td>\n",
       "      <td>0.001111</td>\n",
       "      <td>21025.055556</td>\n",
       "    </tr>\n",
       "    <tr>\n",
       "      <th>ITA</th>\n",
       "      <td>50.250000</td>\n",
       "      <td>10.5</td>\n",
       "      <td>36.8</td>\n",
       "      <td>13.650000</td>\n",
       "      <td>9.500000</td>\n",
       "      <td>13.650000</td>\n",
       "      <td>52.7</td>\n",
       "      <td>52.7</td>\n",
       "      <td>0.0</td>\n",
       "      <td>50.450000</td>\n",
       "      <td>1.371500</td>\n",
       "      <td>49.465000</td>\n",
       "      <td>49.460000</td>\n",
       "      <td>0.005000</td>\n",
       "      <td>0.001500</td>\n",
       "      <td>17062.450000</td>\n",
       "    </tr>\n",
       "  </tbody>\n",
       "</table>\n",
       "</div>"
      ],
      "text/plain": [
       "                Rk  LgRk    MP          W          D          L    GF    GA  \\\n",
       "Country                                                                       \n",
       "ENG      49.400000  10.5  36.5  13.950000   8.600000  13.950000  50.9  50.9   \n",
       "ESP      50.450000  10.5  37.0  13.050000  10.900000  13.050000  46.5  46.5   \n",
       "FRA      49.350000  10.5  37.0  13.600000   9.800000  13.600000  51.5  51.5   \n",
       "GER      47.888889   9.5  34.0  12.944444   8.111111  12.944444  53.0  53.0   \n",
       "ITA      50.250000  10.5  36.8  13.650000   9.500000  13.650000  52.7  52.7   \n",
       "\n",
       "          GD        Pts     Pts/G         xG        xGA       xGD    xGD/90  \\\n",
       "Country                                                                       \n",
       "ENG      0.0  50.450000  1.381500  49.610000  49.600000 -0.010000  0.002000   \n",
       "ESP      0.0  50.050000  1.352500  45.525000  45.510000 -0.010000  0.000500   \n",
       "FRA      0.0  50.500000  1.365500  48.650000  48.655000 -0.005000 -0.000500   \n",
       "GER      0.0  46.944444  1.381111  50.166667  50.155556 -0.005556  0.001111   \n",
       "ITA      0.0  50.450000  1.371500  49.465000  49.460000  0.005000  0.001500   \n",
       "\n",
       "           Attendance  \n",
       "Country                \n",
       "ENG      39538.700000  \n",
       "ESP      22937.600000  \n",
       "FRA      20314.000000  \n",
       "GER      21025.055556  \n",
       "ITA      17062.450000  "
      ]
     },
     "execution_count": 20,
     "metadata": {},
     "output_type": "execute_result"
    }
   ],
   "source": [
    "Uefa.groupby(['Country']).mean()"
   ]
  },
  {
   "cell_type": "code",
   "execution_count": 21,
   "id": "6ee32c48",
   "metadata": {
    "scrolled": false
   },
   "outputs": [
    {
     "data": {
      "image/png": "[encoded data removed]",
      "text/plain": [
       "<Figure size 500x400 with 1 Axes>"
      ]
     },
     "metadata": {},
     "output_type": "display_data"
    }
   ],
   "source": [
    "fig, ax = plt.subplots(figsize = (5, 4))\n",
    "sns.boxplot(data=Uefa,x='Country',y='Pts',orient='v')\n",
    "plt.show()"
   ]
  },
  {
   "cell_type": "markdown",
   "id": "649fc487",
   "metadata": {},
   "source": [
    "Estos análisis semblan indicar que las medias de puntos por país son muy similiares entre si. Vamos a comprobarlo con un test de hipotesis."
   ]
  },
  {
   "cell_type": "markdown",
   "id": "21f80f5e",
   "metadata": {},
   "source": [
    "La idea es utilizar **LA PRUEBA DEL TEST DE STUDENT CON DOS MUESTRAS**, una muestra con los equipos de Inglaterra, otra muestra con los equipos de Alemania.\n",
    "\n",
    "Antes de poder usar este test, tenemos que validar si los siguientes supuestos se cumplen:\n",
    "- Las observaciones en cada muestra son independientes : SI\n",
    "- Las observaciones en cada muestra están normalmente distribuidas : vamos a valorarlo con un test de Shapiro Wilk\n",
    "- Las obervaciones en cada muestra tienen la misma varianza : vamos a valorarlo con un test de Levene\n",
    "\n"
   ]
  },
  {
   "cell_type": "code",
   "execution_count": 22,
   "id": "3d5570fe",
   "metadata": {},
   "outputs": [
    {
     "data": {
      "text/html": [
       "<div>\n",
       "<style scoped>\n",
       "    .dataframe tbody tr th:only-of-type {\n",
       "        vertical-align: middle;\n",
       "    }\n",
       "\n",
       "    .dataframe tbody tr th {\n",
       "        vertical-align: top;\n",
       "    }\n",
       "\n",
       "    .dataframe thead th {\n",
       "        text-align: right;\n",
       "    }\n",
       "</style>\n",
       "<table border=\"1\" class=\"dataframe\">\n",
       "  <thead>\n",
       "    <tr style=\"text-align: right;\">\n",
       "      <th></th>\n",
       "      <th>Rk</th>\n",
       "      <th>Squad</th>\n",
       "      <th>Country</th>\n",
       "      <th>LgRk</th>\n",
       "      <th>MP</th>\n",
       "      <th>W</th>\n",
       "      <th>D</th>\n",
       "      <th>L</th>\n",
       "      <th>GF</th>\n",
       "      <th>GA</th>\n",
       "      <th>GD</th>\n",
       "      <th>Pts</th>\n",
       "      <th>Pts/G</th>\n",
       "      <th>xG</th>\n",
       "      <th>xGA</th>\n",
       "      <th>xGD</th>\n",
       "      <th>xGD/90</th>\n",
       "      <th>Last 5</th>\n",
       "      <th>Attendance</th>\n",
       "      <th>Top Team Scorer</th>\n",
       "      <th>Goalkeeper</th>\n",
       "    </tr>\n",
       "  </thead>\n",
       "  <tbody>\n",
       "    <tr>\n",
       "      <th>0</th>\n",
       "      <td>1</td>\n",
       "      <td>Manchester City</td>\n",
       "      <td>ENG</td>\n",
       "      <td>1</td>\n",
       "      <td>37</td>\n",
       "      <td>28</td>\n",
       "      <td>6</td>\n",
       "      <td>3</td>\n",
       "      <td>96</td>\n",
       "      <td>24</td>\n",
       "      <td>72</td>\n",
       "      <td>90</td>\n",
       "      <td>2.43</td>\n",
       "      <td>86.1</td>\n",
       "      <td>26.8</td>\n",
       "      <td>59.3</td>\n",
       "      <td>1.60</td>\n",
       "      <td>W W W W D</td>\n",
       "      <td>52739</td>\n",
       "      <td>Kevin De Bruyne - 15</td>\n",
       "      <td>Ederson</td>\n",
       "    </tr>\n",
       "    <tr>\n",
       "      <th>1</th>\n",
       "      <td>2</td>\n",
       "      <td>Liverpool</td>\n",
       "      <td>ENG</td>\n",
       "      <td>2</td>\n",
       "      <td>36</td>\n",
       "      <td>26</td>\n",
       "      <td>8</td>\n",
       "      <td>2</td>\n",
       "      <td>89</td>\n",
       "      <td>24</td>\n",
       "      <td>65</td>\n",
       "      <td>86</td>\n",
       "      <td>2.39</td>\n",
       "      <td>84.6</td>\n",
       "      <td>33.1</td>\n",
       "      <td>51.4</td>\n",
       "      <td>1.43</td>\n",
       "      <td>W W W D W</td>\n",
       "      <td>53367</td>\n",
       "      <td>Mohamed Salah - 22</td>\n",
       "      <td>Alisson</td>\n",
       "    </tr>\n",
       "    <tr>\n",
       "      <th>10</th>\n",
       "      <td>11</td>\n",
       "      <td>Chelsea</td>\n",
       "      <td>ENG</td>\n",
       "      <td>3</td>\n",
       "      <td>36</td>\n",
       "      <td>20</td>\n",
       "      <td>10</td>\n",
       "      <td>6</td>\n",
       "      <td>73</td>\n",
       "      <td>31</td>\n",
       "      <td>42</td>\n",
       "      <td>70</td>\n",
       "      <td>1.94</td>\n",
       "      <td>63.2</td>\n",
       "      <td>34.9</td>\n",
       "      <td>28.4</td>\n",
       "      <td>0.79</td>\n",
       "      <td>W D L D W</td>\n",
       "      <td>36991</td>\n",
       "      <td>Mason Mount - 11</td>\n",
       "      <td>Edouard Mendy</td>\n",
       "    </tr>\n",
       "    <tr>\n",
       "      <th>14</th>\n",
       "      <td>15</td>\n",
       "      <td>Tottenham</td>\n",
       "      <td>ENG</td>\n",
       "      <td>4</td>\n",
       "      <td>37</td>\n",
       "      <td>21</td>\n",
       "      <td>5</td>\n",
       "      <td>11</td>\n",
       "      <td>64</td>\n",
       "      <td>40</td>\n",
       "      <td>24</td>\n",
       "      <td>68</td>\n",
       "      <td>1.84</td>\n",
       "      <td>61.5</td>\n",
       "      <td>39.0</td>\n",
       "      <td>22.5</td>\n",
       "      <td>0.61</td>\n",
       "      <td>D W D W W</td>\n",
       "      <td>56234</td>\n",
       "      <td>Son Heung-min - 21</td>\n",
       "      <td>Hugo Lloris</td>\n",
       "    </tr>\n",
       "    <tr>\n",
       "      <th>17</th>\n",
       "      <td>18</td>\n",
       "      <td>Arsenal</td>\n",
       "      <td>ENG</td>\n",
       "      <td>5</td>\n",
       "      <td>36</td>\n",
       "      <td>21</td>\n",
       "      <td>3</td>\n",
       "      <td>12</td>\n",
       "      <td>56</td>\n",
       "      <td>45</td>\n",
       "      <td>11</td>\n",
       "      <td>66</td>\n",
       "      <td>1.83</td>\n",
       "      <td>56.3</td>\n",
       "      <td>44.0</td>\n",
       "      <td>12.2</td>\n",
       "      <td>0.34</td>\n",
       "      <td>W W W W L</td>\n",
       "      <td>59636</td>\n",
       "      <td>Bukayo Saka - 11</td>\n",
       "      <td>Aaron Ramsdale</td>\n",
       "    </tr>\n",
       "  </tbody>\n",
       "</table>\n",
       "</div>"
      ],
      "text/plain": [
       "    Rk            Squad Country  LgRk  MP   W   D   L  GF  GA  GD  Pts  Pts/G  \\\n",
       "0    1  Manchester City     ENG     1  37  28   6   3  96  24  72   90   2.43   \n",
       "1    2        Liverpool     ENG     2  36  26   8   2  89  24  65   86   2.39   \n",
       "10  11          Chelsea     ENG     3  36  20  10   6  73  31  42   70   1.94   \n",
       "14  15        Tottenham     ENG     4  37  21   5  11  64  40  24   68   1.84   \n",
       "17  18          Arsenal     ENG     5  36  21   3  12  56  45  11   66   1.83   \n",
       "\n",
       "      xG   xGA   xGD  xGD/90     Last 5  Attendance       Top Team Scorer  \\\n",
       "0   86.1  26.8  59.3    1.60  W W W W D       52739  Kevin De Bruyne - 15   \n",
       "1   84.6  33.1  51.4    1.43  W W W D W       53367    Mohamed Salah - 22   \n",
       "10  63.2  34.9  28.4    0.79  W D L D W       36991      Mason Mount - 11   \n",
       "14  61.5  39.0  22.5    0.61  D W D W W       56234    Son Heung-min - 21   \n",
       "17  56.3  44.0  12.2    0.34  W W W W L       59636      Bukayo Saka - 11   \n",
       "\n",
       "        Goalkeeper  \n",
       "0          Ederson  \n",
       "1          Alisson  \n",
       "10   Edouard Mendy  \n",
       "14     Hugo Lloris  \n",
       "17  Aaron Ramsdale  "
      ]
     },
     "execution_count": 22,
     "metadata": {},
     "output_type": "execute_result"
    }
   ],
   "source": [
    "muestra_1=Uefa[Uefa['Country']=='ENG']\n",
    "muestra_1.head()"
   ]
  },
  {
   "cell_type": "code",
   "execution_count": 23,
   "id": "cc2e7419",
   "metadata": {
    "scrolled": true
   },
   "outputs": [
    {
     "data": {
      "text/html": [
       "<div>\n",
       "<style scoped>\n",
       "    .dataframe tbody tr th:only-of-type {\n",
       "        vertical-align: middle;\n",
       "    }\n",
       "\n",
       "    .dataframe tbody tr th {\n",
       "        vertical-align: top;\n",
       "    }\n",
       "\n",
       "    .dataframe thead th {\n",
       "        text-align: right;\n",
       "    }\n",
       "</style>\n",
       "<table border=\"1\" class=\"dataframe\">\n",
       "  <thead>\n",
       "    <tr style=\"text-align: right;\">\n",
       "      <th></th>\n",
       "      <th>Rk</th>\n",
       "      <th>Squad</th>\n",
       "      <th>Country</th>\n",
       "      <th>LgRk</th>\n",
       "      <th>MP</th>\n",
       "      <th>W</th>\n",
       "      <th>D</th>\n",
       "      <th>L</th>\n",
       "      <th>GF</th>\n",
       "      <th>GA</th>\n",
       "      <th>GD</th>\n",
       "      <th>Pts</th>\n",
       "      <th>Pts/G</th>\n",
       "      <th>xG</th>\n",
       "      <th>xGA</th>\n",
       "      <th>xGD</th>\n",
       "      <th>xGD/90</th>\n",
       "      <th>Last 5</th>\n",
       "      <th>Attendance</th>\n",
       "      <th>Top Team Scorer</th>\n",
       "      <th>Goalkeeper</th>\n",
       "    </tr>\n",
       "  </thead>\n",
       "  <tbody>\n",
       "    <tr>\n",
       "      <th>3</th>\n",
       "      <td>4</td>\n",
       "      <td>Bayern Munich</td>\n",
       "      <td>GER</td>\n",
       "      <td>1</td>\n",
       "      <td>34</td>\n",
       "      <td>24</td>\n",
       "      <td>5</td>\n",
       "      <td>5</td>\n",
       "      <td>97</td>\n",
       "      <td>37</td>\n",
       "      <td>60</td>\n",
       "      <td>77</td>\n",
       "      <td>2.26</td>\n",
       "      <td>88.1</td>\n",
       "      <td>37.1</td>\n",
       "      <td>51.0</td>\n",
       "      <td>1.50</td>\n",
       "      <td>W W L D D</td>\n",
       "      <td>33176</td>\n",
       "      <td>Robert Lewandowski - 35</td>\n",
       "      <td>Manuel Neuer</td>\n",
       "    </tr>\n",
       "    <tr>\n",
       "      <th>8</th>\n",
       "      <td>9</td>\n",
       "      <td>Dortmund</td>\n",
       "      <td>GER</td>\n",
       "      <td>2</td>\n",
       "      <td>34</td>\n",
       "      <td>22</td>\n",
       "      <td>3</td>\n",
       "      <td>9</td>\n",
       "      <td>85</td>\n",
       "      <td>52</td>\n",
       "      <td>33</td>\n",
       "      <td>69</td>\n",
       "      <td>2.03</td>\n",
       "      <td>62.8</td>\n",
       "      <td>43.2</td>\n",
       "      <td>19.6</td>\n",
       "      <td>0.58</td>\n",
       "      <td>W L L W W</td>\n",
       "      <td>41800</td>\n",
       "      <td>Erling Haaland - 22</td>\n",
       "      <td>Gregor Kobel</td>\n",
       "    </tr>\n",
       "    <tr>\n",
       "      <th>12</th>\n",
       "      <td>13</td>\n",
       "      <td>Leverkusen</td>\n",
       "      <td>GER</td>\n",
       "      <td>3</td>\n",
       "      <td>34</td>\n",
       "      <td>19</td>\n",
       "      <td>7</td>\n",
       "      <td>8</td>\n",
       "      <td>80</td>\n",
       "      <td>47</td>\n",
       "      <td>33</td>\n",
       "      <td>64</td>\n",
       "      <td>1.88</td>\n",
       "      <td>63.3</td>\n",
       "      <td>43.1</td>\n",
       "      <td>20.2</td>\n",
       "      <td>0.59</td>\n",
       "      <td>L W W W W</td>\n",
       "      <td>17356</td>\n",
       "      <td>Patrik Schick - 24</td>\n",
       "      <td>Luká Hrádeck?</td>\n",
       "    </tr>\n",
       "    <tr>\n",
       "      <th>22</th>\n",
       "      <td>23</td>\n",
       "      <td>RB Leipzig</td>\n",
       "      <td>GER</td>\n",
       "      <td>4</td>\n",
       "      <td>34</td>\n",
       "      <td>17</td>\n",
       "      <td>7</td>\n",
       "      <td>10</td>\n",
       "      <td>72</td>\n",
       "      <td>37</td>\n",
       "      <td>35</td>\n",
       "      <td>58</td>\n",
       "      <td>1.71</td>\n",
       "      <td>63.4</td>\n",
       "      <td>41.8</td>\n",
       "      <td>21.6</td>\n",
       "      <td>0.64</td>\n",
       "      <td>W L L W D</td>\n",
       "      <td>22124</td>\n",
       "      <td>Christopher Nkunku - 20</td>\n",
       "      <td>Péter Gulácsi</td>\n",
       "    </tr>\n",
       "    <tr>\n",
       "      <th>25</th>\n",
       "      <td>26</td>\n",
       "      <td>Union Berlin</td>\n",
       "      <td>GER</td>\n",
       "      <td>5</td>\n",
       "      <td>34</td>\n",
       "      <td>16</td>\n",
       "      <td>9</td>\n",
       "      <td>9</td>\n",
       "      <td>50</td>\n",
       "      <td>44</td>\n",
       "      <td>6</td>\n",
       "      <td>57</td>\n",
       "      <td>1.68</td>\n",
       "      <td>50.5</td>\n",
       "      <td>41.6</td>\n",
       "      <td>8.8</td>\n",
       "      <td>0.26</td>\n",
       "      <td>W W D W W</td>\n",
       "      <td>14046</td>\n",
       "      <td>Taiwo Awoniyi - 15</td>\n",
       "      <td>Andreas Luthe</td>\n",
       "    </tr>\n",
       "  </tbody>\n",
       "</table>\n",
       "</div>"
      ],
      "text/plain": [
       "    Rk          Squad Country  LgRk  MP   W  D   L  GF  GA  GD  Pts  Pts/G  \\\n",
       "3    4  Bayern Munich     GER     1  34  24  5   5  97  37  60   77   2.26   \n",
       "8    9       Dortmund     GER     2  34  22  3   9  85  52  33   69   2.03   \n",
       "12  13     Leverkusen     GER     3  34  19  7   8  80  47  33   64   1.88   \n",
       "22  23     RB Leipzig     GER     4  34  17  7  10  72  37  35   58   1.71   \n",
       "25  26   Union Berlin     GER     5  34  16  9   9  50  44   6   57   1.68   \n",
       "\n",
       "      xG   xGA   xGD  xGD/90     Last 5  Attendance          Top Team Scorer  \\\n",
       "3   88.1  37.1  51.0    1.50  W W L D D       33176  Robert Lewandowski - 35   \n",
       "8   62.8  43.2  19.6    0.58  W L L W W       41800      Erling Haaland - 22   \n",
       "12  63.3  43.1  20.2    0.59  L W W W W       17356       Patrik Schick - 24   \n",
       "22  63.4  41.8  21.6    0.64  W L L W D       22124  Christopher Nkunku - 20   \n",
       "25  50.5  41.6   8.8    0.26  W W D W W       14046       Taiwo Awoniyi - 15   \n",
       "\n",
       "        Goalkeeper  \n",
       "3     Manuel Neuer  \n",
       "8     Gregor Kobel  \n",
       "12  Luká Hrádeck?  \n",
       "22   Péter Gulácsi  \n",
       "25   Andreas Luthe  "
      ]
     },
     "execution_count": 23,
     "metadata": {},
     "output_type": "execute_result"
    }
   ],
   "source": [
    "muestra_2=Uefa[Uefa['Country']=='GER']\n",
    "muestra_2.head()"
   ]
  },
  {
   "cell_type": "markdown",
   "id": "244fc8f8",
   "metadata": {},
   "source": [
    "#### TEST DE SHAPIRO WILK  DE LAS DOS MUESTRAS\n",
    "\n",
    "H0 : la muestra está normalmente distribuida  \n",
    "H1 : la muestra no está normalmente distribuida"
   ]
  },
  {
   "cell_type": "code",
   "execution_count": 24,
   "id": "34408541",
   "metadata": {},
   "outputs": [
    {
     "data": {
      "text/plain": [
       "ShapiroResult(statistic=0.9504321217536926, pvalue=0.3736962676048279)"
      ]
     },
     "execution_count": 24,
     "metadata": {},
     "output_type": "execute_result"
    }
   ],
   "source": [
    "stats.shapiro(muestra_1['Pts'])"
   ]
  },
  {
   "cell_type": "code",
   "execution_count": 25,
   "id": "1f0a2ba1",
   "metadata": {},
   "outputs": [
    {
     "data": {
      "text/plain": [
       "ShapiroResult(statistic=0.987581729888916, pvalue=0.9953233599662781)"
      ]
     },
     "execution_count": 25,
     "metadata": {},
     "output_type": "execute_result"
    }
   ],
   "source": [
    "stats.shapiro(muestra_2['Pts'])"
   ]
  },
  {
   "cell_type": "markdown",
   "id": "138efb74",
   "metadata": {},
   "source": [
    "En ambos casos, el p-value es claramente superior a 5%, aceptamos H0 conforme la variable 'Pts' está normalmente distribuida en ambas muestras."
   ]
  },
  {
   "cell_type": "code",
   "execution_count": 26,
   "id": "bd927697",
   "metadata": {
    "scrolled": true
   },
   "outputs": [
    {
     "data": {
      "image/png": "[encoded data removed]",
      "text/plain": [
       "<Figure size 600x300 with 1 Axes>"
      ]
     },
     "metadata": {},
     "output_type": "display_data"
    }
   ],
   "source": [
    "sns.displot(muestra_1['Pts'], kde=True,height=3,aspect=2)\n",
    "plt.show()"
   ]
  },
  {
   "cell_type": "code",
   "execution_count": 27,
   "id": "37899324",
   "metadata": {
    "scrolled": true
   },
   "outputs": [
    {
     "data": {
      "image/png": "[encoded data removed]",
      "text/plain": [
       "<Figure size 600x300 with 1 Axes>"
      ]
     },
     "metadata": {},
     "output_type": "display_data"
    }
   ],
   "source": [
    "sns.displot(muestra_2['Pts'], kde=True,height=3,aspect=2)\n",
    "plt.show()"
   ]
  },
  {
   "cell_type": "markdown",
   "id": "07685ca5",
   "metadata": {},
   "source": [
    "#### TEST DE LEVENE (HOMOGENEIDAD DE LAS VARIANZAS)  \n",
    "\n",
    "H0 : las varianzas no son significativamente diferentes entre si (homogeneidad)  \n",
    "H1 : las varianzas son significativamente diferentes entre si"
   ]
  },
  {
   "cell_type": "code",
   "execution_count": 28,
   "id": "eb4b9cbc",
   "metadata": {
    "scrolled": true
   },
   "outputs": [
    {
     "data": {
      "text/plain": [
       "LeveneResult(statistic=0.4366243400173789, pvalue=0.5129628433985536)"
      ]
     },
     "execution_count": 28,
     "metadata": {},
     "output_type": "execute_result"
    }
   ],
   "source": [
    "stats.levene(muestra_1['Pts'], muestra_2['Pts'])"
   ]
  },
  {
   "cell_type": "markdown",
   "id": "e4319190",
   "metadata": {},
   "source": [
    "El p-value es claramente superior a 5%, aceptamos H0 conforme la varianza de las 2 muestras no es significativamente diferente, es decir son homogéneas."
   ]
  },
  {
   "cell_type": "markdown",
   "id": "55129b92",
   "metadata": {},
   "source": [
    "Todos los supuestos se cumplen, podemos aplicar el test."
   ]
  },
  {
   "cell_type": "markdown",
   "id": "481c508d",
   "metadata": {},
   "source": [
    "#### TEST DE STUDENT DE DOS MUESTRAS  \n",
    "\n",
    "H0 : las medias de las muestras son iguales  \n",
    "H1 : las medias de las muestras son diferentes"
   ]
  },
  {
   "cell_type": "code",
   "execution_count": 31,
   "id": "ba3eb771",
   "metadata": {
    "scrolled": true
   },
   "outputs": [
    {
     "name": "stdout",
     "output_type": "stream",
     "text": [
      "stat 0.6430378207487817 p_value 0.5242745442222266\n"
     ]
    }
   ],
   "source": [
    "from scipy.stats import ttest_ind\n",
    "data1 = muestra_1['Pts']\n",
    "data2 = muestra_2['Pts']\n",
    "stat, p = ttest_ind(data1, data2)\n",
    "print('stat',stat,'p_value',p)\n"
   ]
  },
  {
   "cell_type": "markdown",
   "id": "9d076344",
   "metadata": {},
   "source": [
    "El p-value es claramente superior a 5%, aceptamos H0 conforme **la media de las 2 muestras no es significativamente diferente**.\n",
    "\n",
    "Podríamos aplicar el mismo test al resto de países, para concluir que efectivamente, no hay diferencia sustancial entre la media de puntos por país."
   ]
  },
  {
   "cell_type": "markdown",
   "id": "a4547440",
   "metadata": {},
   "source": [
    "## EXERCICI 3\n"
   ]
  },
  {
   "cell_type": "markdown",
   "id": "44853502",
   "metadata": {},
   "source": [
    "### TEST DE HIPOTESIS CON 3 VARIABLES  \n",
    "\n",
    "Nos planteamos cuales son los posibles factores que influyen en la asistencia media a los partidos.  Un factor posible es la previsión de goles (cuanto más goles esperados, más asistentes al partido).  Otro factor podría ser el país, según la cultura futbolistica es similar o no en cada uno de los 5 países de la UEFA.\n",
    "\n",
    "Vamos a usar varias herramientas estadísticas para intentar dar respuesta a estas preguntas:"
   ]
  },
  {
   "cell_type": "markdown",
   "id": "ee08585f",
   "metadata": {},
   "source": [
    "#### RELACION ENTRE ASISTENCIA Y PREVISIÓN DE GOLES"
   ]
  },
  {
   "cell_type": "code",
   "execution_count": 32,
   "id": "d068e2b6",
   "metadata": {},
   "outputs": [
    {
     "data": {
      "image/png": "[encoded data removed]",
      "text/plain": [
       "<Figure size 640x480 with 1 Axes>"
      ]
     },
     "metadata": {},
     "output_type": "display_data"
    }
   ],
   "source": [
    "sns.scatterplot(data=Uefa,x='xG',y='Attendance')\n",
    "plt.show()"
   ]
  },
  {
   "cell_type": "code",
   "execution_count": 33,
   "id": "cac8767e",
   "metadata": {
    "scrolled": false
   },
   "outputs": [
    {
     "data": {
      "text/plain": [
       "array([[1.        , 0.49327846],\n",
       "       [0.49327846, 1.        ]])"
      ]
     },
     "execution_count": 33,
     "metadata": {},
     "output_type": "execute_result"
    }
   ],
   "source": [
    "np.corrcoef(Uefa['xG'],Uefa['Attendance'])"
   ]
  },
  {
   "cell_type": "markdown",
   "id": "f8d29a8b",
   "metadata": {},
   "source": [
    "Parece haber una cierta relación de correlación. La idea es usar un test de correlación para comprobarlo."
   ]
  },
  {
   "cell_type": "markdown",
   "id": "60970f38",
   "metadata": {},
   "source": [
    "#### TEST DE SHAPIRO WILK DE LAS DOS MUESTRAS"
   ]
  },
  {
   "cell_type": "code",
   "execution_count": 34,
   "id": "a09f21ae",
   "metadata": {},
   "outputs": [
    {
     "data": {
      "text/plain": [
       "ShapiroResult(statistic=0.9071446061134338, pvalue=3.7994775539118564e-06)"
      ]
     },
     "execution_count": 34,
     "metadata": {},
     "output_type": "execute_result"
    }
   ],
   "source": [
    "stats.shapiro(Uefa['Attendance'])"
   ]
  },
  {
   "cell_type": "code",
   "execution_count": 35,
   "id": "86b83ad3",
   "metadata": {
    "scrolled": true
   },
   "outputs": [
    {
     "data": {
      "text/plain": [
       "ShapiroResult(statistic=0.9401810765266418, pvalue=0.00023106664593797177)"
      ]
     },
     "execution_count": 35,
     "metadata": {},
     "output_type": "execute_result"
    }
   ],
   "source": [
    "stats.shapiro(Uefa['xG'])"
   ]
  },
  {
   "cell_type": "markdown",
   "id": "a1fc21b4",
   "metadata": {},
   "source": [
    "Los p_value tienden a 0, las muestras no están normalmente distribuidas, podemos usar entonces el test de correlación de Spearman."
   ]
  },
  {
   "cell_type": "markdown",
   "id": "07e5cadf",
   "metadata": {},
   "source": [
    "#### TEST DE CORRELACION DE SPEARMANR  \n",
    "\n",
    "H0 : las variables no tienen correlación  \n",
    "H1 : las variables tienen correlación ¶"
   ]
  },
  {
   "cell_type": "code",
   "execution_count": 36,
   "id": "c495150e",
   "metadata": {},
   "outputs": [
    {
     "name": "stdout",
     "output_type": "stream",
     "text": [
      "stat 0.45553979349574447 p_value 2.438520286357803e-06\n"
     ]
    }
   ],
   "source": [
    "from scipy.stats import spearmanr\n",
    "data1 = Uefa['Attendance']\n",
    "data2 = Uefa['xG']\n",
    "stat, p = spearmanr(data1, data2)\n",
    "print('stat',stat,'p_value',p)\n"
   ]
  },
  {
   "cell_type": "markdown",
   "id": "74ec2ef3",
   "metadata": {},
   "source": [
    "El p_value tiende a 0, tenemos que rechazar la hipotesis H0. Las dos variables están muy probablemente correlacionadas, es decir **cuanta más previsión de goles, más asistencia**."
   ]
  },
  {
   "cell_type": "markdown",
   "id": "ac5a7008",
   "metadata": {},
   "source": [
    "#### IMPACTO DEL PAIS SOBRE  ESTA RELACIÓN   \n",
    "\n",
    "Vamos ahora a analizar si el país de origen del equipo puede moderar o incrementar el efecto de la previsión de goles sobre la asistencia al partido. Es decir, la correlación entre previsión de goles y asistencia cambia en función del país?\n",
    "\n",
    "Vamos a construir un facetplot de asistencia según la previsión de goles, para cada país :\n"
   ]
  },
  {
   "cell_type": "code",
   "execution_count": 37,
   "id": "8b758c7a",
   "metadata": {
    "scrolled": false
   },
   "outputs": [
    {
     "data": {
      "image/png": "[encoded data removed]",
      "text/plain": [
       "<Figure size 1500x300 with 5 Axes>"
      ]
     },
     "metadata": {},
     "output_type": "display_data"
    }
   ],
   "source": [
    "g = sns.FacetGrid(Uefa,\n",
    "    col=\"Country\")\n",
    "g.map(sns.scatterplot, \"xG\", \"Attendance\")\n",
    "plt.show()"
   ]
  },
  {
   "cell_type": "markdown",
   "id": "39ae1b47",
   "metadata": {},
   "source": [
    "Podemos ver por ejemplo que la pendiente de xG vs asistencia es mucho más plana en Alemania que en Inglaterra, es decir, tendería a mostrar que en Alemania, al público le da bastante igual la previsión de goles en su decisión de asistir a un partido, y en Inglaterra, no tanto. \n",
    "\n",
    "Para formalizar esta diferencia, vamos a estudiar en bucle los diferentes paises, crear los correspondientes subsets y aplicar Spearmanr test para cada país:"
   ]
  },
  {
   "cell_type": "code",
   "execution_count": 38,
   "id": "2843ff10",
   "metadata": {},
   "outputs": [],
   "source": [
    "list_1=['ENG','FRA','GER','ITA','ESP']"
   ]
  },
  {
   "cell_type": "code",
   "execution_count": 39,
   "id": "61f435e3",
   "metadata": {},
   "outputs": [
    {
     "name": "stdout",
     "output_type": "stream",
     "text": [
      "Attendance per expected Goals for ENG\n",
      "Spearmanr correlation coefficient: 0.6015037593984961\n",
      "Associated p-value: 0.0050232025868820335\n",
      "\n",
      "Attendance per expected Goals for FRA\n",
      "Spearmanr correlation coefficient: 0.5022556390977443\n",
      "Associated p-value: 0.024024689465215552\n",
      "\n",
      "Attendance per expected Goals for GER\n",
      "Spearmanr correlation coefficient: 0.42002063983488136\n",
      "Associated p-value: 0.08267356720316324\n",
      "\n",
      "Attendance per expected Goals for ITA\n",
      "Spearmanr correlation coefficient: 0.613533834586466\n",
      "Associated p-value: 0.004013734729903659\n",
      "\n",
      "Attendance per expected Goals for ESP\n",
      "Spearmanr correlation coefficient: 0.4806318504619453\n",
      "Associated p-value: 0.03194355471787026\n",
      "\n"
     ]
    }
   ],
   "source": [
    "for i in list_1:\n",
    "    subset = Uefa[Uefa['Country'] == i]\n",
    "    print('Attendance per expected Goals for ' + str(i))\n",
    "    res = spearmanr(subset['xG'], subset['Attendance'])\n",
    "    print('Spearmanr correlation coefficient: ' + str(res[0]))\n",
    "    print('Associated p-value: ' + str(res[1]))\n",
    "    print('')"
   ]
  },
  {
   "cell_type": "markdown",
   "id": "f22e6a41",
   "metadata": {},
   "source": [
    "El p_value de cada país nos indica la fuerza de la correlación entre previsión de goles y asistencia en cada uno de los países.\n",
    "\n",
    "Como podemos constatar, la fuerza de la correlación entre previsión de goles y asistencia es sustancialmente más alta en el caso de Inglaterra que Alemania (Inglaterra tiene un p-value cerca de 10 veces inferior al de Alemania).\n"
   ]
  },
  {
   "cell_type": "code",
   "execution_count": null,
   "id": "3dc75c1e",
   "metadata": {},
   "outputs": [],
   "source": []
  }
 ],
 "metadata": {
  "kernelspec": {
   "display_name": "Python 3 (ipykernel)",
   "language": "python",
   "name": "python3"
  },
  "language_info": {
   "codemirror_mode": {
    "name": "ipython",
    "version": 3
   },
   "file_extension": ".py",
   "mimetype": "text/x-python",
   "name": "python",
   "nbconvert_exporter": "python",
   "pygments_lexer": "ipython3",
   "version": "3.9.13"
  }
 },
 "nbformat": 4,
 "nbformat_minor": 5
}
